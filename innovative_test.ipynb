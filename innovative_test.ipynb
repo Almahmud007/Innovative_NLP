{
 "cells": [
  {
   "cell_type": "code",
   "execution_count": 1,
   "metadata": {},
   "outputs": [],
   "source": [
    "import pandas as pd"
   ]
  },
  {
   "cell_type": "markdown",
   "metadata": {},
   "source": [
    "Imagine you work for an e-commerce company that has collected customer reviews\n",
    "for its products. The data is stored in a list of dictionaries, where each dictionary\n",
    "represents a customer review with the following structure\n",
    "\n",
    "customer reviews = [\n",
    "{'product_id':101, 'review': 'This product is amazing! I love it.'},\n",
    "{'product_id':102, 'review': 'The quality is not as expected. Disappointed.'},\n",
    "{'product_id':103, 'review': 'Great value for the price. Highly recommended.'},\n",
    "{'product_id':104, 'review': 'Not happy with the purchase. Will return it.'},\n",
    "{'product_id':105, 'review': 'Excellent service. Fast delivery.'},\n",
    "\n",
    "\n",
    "1. Identify and count the number of reviews that express a positive sentiment.\n",
    "2. Identify and list the product IDs and reviews for the products with negative\n",
    "sentiments.\n",
    "3. Calculate the average length (number of words) of the reviews\n",
    "4. Determine the product that is mentioned the most in the reviews.\n",
    "5. Create a distribution of sentiments (positive, negative, neutral) for the\n",
    "reviews.\n",
    "6. Extract key words or phrases from the reviews that frequently appear.\n",
    "7. Find and display the longest review along with its product ID.\n",
    "8. Identify products that have both positive and negative reviews.\n",
    "9. Change the sentiment of a selected review from positive to negative andvice versa.\n",
    "10. Compare the similarity between two selected reviews without using any\n",
    "similarity metrics directly."
   ]
  },
  {
   "cell_type": "code",
   "execution_count": 2,
   "metadata": {},
   "outputs": [],
   "source": [
    "customer_reviews = [\n",
    "    {'product_id':101, 'review': 'This product is amazing! I love it.'},\n",
    "    {'product_id':102, 'review': 'The quality is not as expected. Disappointed.'},\n",
    "    {'product_id':103, 'review': 'Great value for the price. Highly recommended.'},\n",
    "    {'product_id':104, 'review': 'Not happy with the purchase. Will return it.'},\n",
    "    {'product_id':105, 'review': 'Excellent service. Fast delivery.'}\n",
    "]\n",
    "\n",
    "df = pd.DataFrame(customer_reviews)\n"
   ]
  },
  {
   "cell_type": "code",
   "execution_count": 3,
   "metadata": {},
   "outputs": [
    {
     "data": {
      "text/html": [
       "<div>\n",
       "<style scoped>\n",
       "    .dataframe tbody tr th:only-of-type {\n",
       "        vertical-align: middle;\n",
       "    }\n",
       "\n",
       "    .dataframe tbody tr th {\n",
       "        vertical-align: top;\n",
       "    }\n",
       "\n",
       "    .dataframe thead th {\n",
       "        text-align: right;\n",
       "    }\n",
       "</style>\n",
       "<table border=\"1\" class=\"dataframe\">\n",
       "  <thead>\n",
       "    <tr style=\"text-align: right;\">\n",
       "      <th></th>\n",
       "      <th>product_id</th>\n",
       "      <th>review</th>\n",
       "    </tr>\n",
       "  </thead>\n",
       "  <tbody>\n",
       "    <tr>\n",
       "      <th>0</th>\n",
       "      <td>101</td>\n",
       "      <td>This product is amazing! I love it.</td>\n",
       "    </tr>\n",
       "    <tr>\n",
       "      <th>1</th>\n",
       "      <td>102</td>\n",
       "      <td>The quality is not as expected. Disappointed.</td>\n",
       "    </tr>\n",
       "    <tr>\n",
       "      <th>2</th>\n",
       "      <td>103</td>\n",
       "      <td>Great value for the price. Highly recommended.</td>\n",
       "    </tr>\n",
       "    <tr>\n",
       "      <th>3</th>\n",
       "      <td>104</td>\n",
       "      <td>Not happy with the purchase. Will return it.</td>\n",
       "    </tr>\n",
       "    <tr>\n",
       "      <th>4</th>\n",
       "      <td>105</td>\n",
       "      <td>Excellent service. Fast delivery.</td>\n",
       "    </tr>\n",
       "  </tbody>\n",
       "</table>\n",
       "</div>"
      ],
      "text/plain": [
       "   product_id                                          review\n",
       "0         101             This product is amazing! I love it.\n",
       "1         102   The quality is not as expected. Disappointed.\n",
       "2         103  Great value for the price. Highly recommended.\n",
       "3         104    Not happy with the purchase. Will return it.\n",
       "4         105               Excellent service. Fast delivery."
      ]
     },
     "execution_count": 3,
     "metadata": {},
     "output_type": "execute_result"
    }
   ],
   "source": [
    "df"
   ]
  },
  {
   "cell_type": "code",
   "execution_count": 4,
   "metadata": {},
   "outputs": [],
   "source": [
    "df['review'] = df['review'].str.lower()"
   ]
  },
  {
   "cell_type": "code",
   "execution_count": 5,
   "metadata": {},
   "outputs": [
    {
     "data": {
      "text/html": [
       "<div>\n",
       "<style scoped>\n",
       "    .dataframe tbody tr th:only-of-type {\n",
       "        vertical-align: middle;\n",
       "    }\n",
       "\n",
       "    .dataframe tbody tr th {\n",
       "        vertical-align: top;\n",
       "    }\n",
       "\n",
       "    .dataframe thead th {\n",
       "        text-align: right;\n",
       "    }\n",
       "</style>\n",
       "<table border=\"1\" class=\"dataframe\">\n",
       "  <thead>\n",
       "    <tr style=\"text-align: right;\">\n",
       "      <th></th>\n",
       "      <th>product_id</th>\n",
       "      <th>review</th>\n",
       "    </tr>\n",
       "  </thead>\n",
       "  <tbody>\n",
       "    <tr>\n",
       "      <th>0</th>\n",
       "      <td>101</td>\n",
       "      <td>this product is amazing! i love it.</td>\n",
       "    </tr>\n",
       "    <tr>\n",
       "      <th>1</th>\n",
       "      <td>102</td>\n",
       "      <td>the quality is not as expected. disappointed.</td>\n",
       "    </tr>\n",
       "    <tr>\n",
       "      <th>2</th>\n",
       "      <td>103</td>\n",
       "      <td>great value for the price. highly recommended.</td>\n",
       "    </tr>\n",
       "    <tr>\n",
       "      <th>3</th>\n",
       "      <td>104</td>\n",
       "      <td>not happy with the purchase. will return it.</td>\n",
       "    </tr>\n",
       "    <tr>\n",
       "      <th>4</th>\n",
       "      <td>105</td>\n",
       "      <td>excellent service. fast delivery.</td>\n",
       "    </tr>\n",
       "  </tbody>\n",
       "</table>\n",
       "</div>"
      ],
      "text/plain": [
       "   product_id                                          review\n",
       "0         101             this product is amazing! i love it.\n",
       "1         102   the quality is not as expected. disappointed.\n",
       "2         103  great value for the price. highly recommended.\n",
       "3         104    not happy with the purchase. will return it.\n",
       "4         105               excellent service. fast delivery."
      ]
     },
     "execution_count": 5,
     "metadata": {},
     "output_type": "execute_result"
    }
   ],
   "source": [
    "df"
   ]
  },
  {
   "cell_type": "code",
   "execution_count": 6,
   "metadata": {},
   "outputs": [
    {
     "name": "stdout",
     "output_type": "stream",
     "text": [
      "Number of positive reviews: 3\n"
     ]
    }
   ],
   "source": [
    "# 1. Identify and count the number of reviews that express a positive sentiment.\n",
    "\n",
    "pos_rev_count = df[df['review'].str.contains('amazing|love|great|highly recommended|excellent')].shape[0]\n",
    "print(\"Number of positive reviews:\", pos_rev_count)"
   ]
  },
  {
   "cell_type": "code",
   "execution_count": 7,
   "metadata": {},
   "outputs": [
    {
     "data": {
      "text/html": [
       "<div>\n",
       "<style scoped>\n",
       "    .dataframe tbody tr th:only-of-type {\n",
       "        vertical-align: middle;\n",
       "    }\n",
       "\n",
       "    .dataframe tbody tr th {\n",
       "        vertical-align: top;\n",
       "    }\n",
       "\n",
       "    .dataframe thead th {\n",
       "        text-align: right;\n",
       "    }\n",
       "</style>\n",
       "<table border=\"1\" class=\"dataframe\">\n",
       "  <thead>\n",
       "    <tr style=\"text-align: right;\">\n",
       "      <th></th>\n",
       "      <th>product_id</th>\n",
       "      <th>review</th>\n",
       "    </tr>\n",
       "  </thead>\n",
       "  <tbody>\n",
       "    <tr>\n",
       "      <th>1</th>\n",
       "      <td>102</td>\n",
       "      <td>the quality is not as expected. disappointed.</td>\n",
       "    </tr>\n",
       "    <tr>\n",
       "      <th>3</th>\n",
       "      <td>104</td>\n",
       "      <td>not happy with the purchase. will return it.</td>\n",
       "    </tr>\n",
       "  </tbody>\n",
       "</table>\n",
       "</div>"
      ],
      "text/plain": [
       "   product_id                                         review\n",
       "1         102  the quality is not as expected. disappointed.\n",
       "3         104   not happy with the purchase. will return it."
      ]
     },
     "execution_count": 7,
     "metadata": {},
     "output_type": "execute_result"
    }
   ],
   "source": [
    "# 2. Identify and list the product IDs and reviews for the products with negative sentiments.\n",
    "neg_rev = df[df['review'].str.contains('not|disappointed|unhappy|Will return')][['product_id', 'review']]\n",
    "neg_rev"
   ]
  },
  {
   "cell_type": "code",
   "execution_count": 8,
   "metadata": {},
   "outputs": [
    {
     "data": {
      "text/plain": [
       "6.6"
      ]
     },
     "execution_count": 8,
     "metadata": {},
     "output_type": "execute_result"
    }
   ],
   "source": [
    "# 3. Calculate the average length (number of words) of the reviews\n",
    "df['review_length'] = df['review'].apply(lambda x: len(x.split()))\n",
    "avg_rev_len = df['review_length'].mean()\n",
    "avg_rev_len\n"
   ]
  },
  {
   "cell_type": "code",
   "execution_count": 9,
   "metadata": {},
   "outputs": [
    {
     "data": {
      "text/plain": [
       "101"
      ]
     },
     "execution_count": 9,
     "metadata": {},
     "output_type": "execute_result"
    }
   ],
   "source": [
    "# 4. Determine the product that is mentioned the most in the reviews.\n",
    "most_mentioned_pro = df['product_id'].mode().iloc[0]\n",
    "most_mentioned_pro"
   ]
  },
  {
   "cell_type": "code",
   "execution_count": 10,
   "metadata": {},
   "outputs": [
    {
     "data": {
      "text/plain": [
       "positive    3\n",
       "negative    2\n",
       "Name: sentiment, dtype: int64"
      ]
     },
     "execution_count": 10,
     "metadata": {},
     "output_type": "execute_result"
    }
   ],
   "source": [
    "# 5. Create a distribution of sentiments (positive, negative, neutral) for the reviews.\n",
    "\n",
    "positive_words = ['amazing', 'love', 'recommended', 'excellent']\n",
    "negative_words = ['disappointed', 'not happy', 'return']\n",
    "\n",
    "def contains_positive_words(review):\n",
    "    # Convert the review to lowercase for case-insensitive matching\n",
    "    review_lower = review.lower()\n",
    "    \n",
    "    # Check if any positive word is present in the review\n",
    "    for word in positive_words:\n",
    "        if word in review_lower:\n",
    "            return True\n",
    "\n",
    "    return False\n",
    "\n",
    "def contains_negative_words(review):\n",
    "    # Convert the review to lowercase for case-insensitive matching\n",
    "    review_lower = review.lower()\n",
    "    \n",
    "    # Check if any negative word is present in the review\n",
    "    for word in negative_words:\n",
    "        if word in review_lower:\n",
    "            return True\n",
    "\n",
    "    return False\n",
    "\n",
    "def categorize_sentiment(review):\n",
    "    # Categorize sentiment based on positive and negative word presence\n",
    "    if contains_positive_words(review):\n",
    "        return 'positive'\n",
    "    elif contains_negative_words(review):\n",
    "        return 'negative'\n",
    "    else:\n",
    "        return 'neutral'\n",
    "\n",
    "\n",
    "# Apply categorization function to reviews\n",
    "df['sentiment'] = df['review'].apply(categorize_sentiment)\n",
    "\n",
    "# Display distribution of sentiments\n",
    "sentiment_distribution = df['sentiment'].value_counts()\n",
    "\n",
    "sentiment_distribution"
   ]
  },
  {
   "cell_type": "code",
   "execution_count": 11,
   "metadata": {},
   "outputs": [
    {
     "data": {
      "text/plain": [
       "[('the', 3), ('is', 2), ('it', 2)]"
      ]
     },
     "execution_count": 11,
     "metadata": {},
     "output_type": "execute_result"
    }
   ],
   "source": [
    "# 6. Extract key words or phrases from the reviews that frequently appear.\n",
    "from collections import Counter\n",
    "import re\n",
    "\n",
    "all_reviews = ' '.join(df['review'].tolist())\n",
    "words = re.findall(r'\\w+', all_reviews.lower())\n",
    "word_counts = Counter(words)\n",
    "\n",
    "freq_words = word_counts.most_common(3)\n",
    "freq_words"
   ]
  },
  {
   "cell_type": "code",
   "execution_count": 12,
   "metadata": {},
   "outputs": [
    {
     "name": "stdout",
     "output_type": "stream",
     "text": [
      "Longest review:\n",
      " not happy with the purchase. will return it.\n",
      "Product ID: 104\n"
     ]
    }
   ],
   "source": [
    "# 7. Find and display the longest review along with its product ID.\n",
    "longest_review = df.loc[df['review_length'].idxmax()]\n",
    "print(\"Longest review:\\n\", longest_review['review'])\n",
    "print(\"Product ID:\", longest_review['product_id'])\n"
   ]
  },
  {
   "cell_type": "code",
   "execution_count": 13,
   "metadata": {},
   "outputs": [
    {
     "name": "stdout",
     "output_type": "stream",
     "text": [
      "[]\n"
     ]
    }
   ],
   "source": [
    "# 8. Identify products that have both positive and negative reviews.\n",
    "both_sent = df.groupby('product_id').filter(lambda x: any(x['review'].str.contains('amazing|love|great|highly recommended|excellent')) and any(x['review'].str.contains('not|disappointed|unhappy|will return')))\n",
    "print(both_sent['product_id'].unique())"
   ]
  },
  {
   "cell_type": "code",
   "execution_count": null,
   "metadata": {},
   "outputs": [],
   "source": []
  },
  {
   "cell_type": "markdown",
   "metadata": {},
   "source": [
    "Let's consider a scenario related to real estate data. Suppose you have a dataset containing information about real estate properties, and the data is stored in a list of dictionaries. Each dictionary represents a property with details such as the property type, size, location, number of bedrooms, and price. Here's the scenario and some\n",
    "questions:\n",
    "\n",
    "real estate data = [\n",
    "{'product_id': 1, 'property_type': 'Apartment', 'size_sqft': 1200, 'location':'Downtown', 'bedrooms': 2, 'price_usd': 250000},\n",
    "{'product_id': 2, 'property_type': 'House', 'size_sqft': 2000, 'location':'Suburb', 'bedrooms': 3, 'price_usd': 350000},\n",
    "{'product_id': 3, 'property_type': 'Apartment', 'size_sqft': 800, 'location':'Uptown', 'bedrooms': 1, 'price_usd': 150000},\n",
    "{'product_id': 4, 'property_type': 'Condo', 'size_sqft': 1500, 'location':'Downtown', 'bedrooms': 2, 'price_usd': 300000},\n",
    "{'product_id': 5, 'property_type': 'House', 'size_sqft': 1800, 'location':'Suburb', 'bedrooms': 4, 'price_usd': 400000}\n",
    "]\n",
    "\n",
    "\n",
    "Question:\n",
    "\n",
    "1. Calculate the average size of properties in the dataset\n",
    "2. Identify and list properties located in the downtown area.\n",
    "3. Find properties with a price higher than $300,000.\n",
    "4. Determine the distribution of property types in the dataset.\n",
    "5. Identify and list apartments with a price less than $200,000.\n",
    "6. Calculate the average price per square foot for all properties.\n",
    "7. Identify and list houses with a size greater than 1,800 sqft.\n",
    "8. Determine the distribution of the number of bedrooms in the dataset.\n",
    "9. Find properties with 3 bedrooms and a price less than $300,000.\n",
    "10. Categorize properties into size ranges (e.g., Small, Medium, Large) based on their square footage."
   ]
  },
  {
   "cell_type": "code",
   "execution_count": 14,
   "metadata": {},
   "outputs": [],
   "source": [
    "real_estate_data = [\n",
    "    {'product_id': 1, 'property_type': 'Apartment', 'size_sqft': 1200, 'location':'Downtown', 'bedrooms': 2, 'price_usd': 250000},\n",
    "    {'product_id': 2, 'property_type': 'House', 'size_sqft': 2000, 'location':'Suburb', 'bedrooms': 3, 'price_usd': 350000},\n",
    "    {'product_id': 3, 'property_type': 'Apartment', 'size_sqft': 800, 'location':'Uptown', 'bedrooms': 1, 'price_usd': 150000},\n",
    "    {'product_id': 4, 'property_type': 'Condo', 'size_sqft': 1500, 'location':'Downtown', 'bedrooms': 2, 'price_usd': 300000},\n",
    "    {'product_id': 5, 'property_type': 'House', 'size_sqft': 1800, 'location':'Suburb', 'bedrooms': 4, 'price_usd': 400000}\n",
    "]\n",
    "\n",
    "re_df = pd.DataFrame(real_estate_data)\n"
   ]
  },
  {
   "cell_type": "code",
   "execution_count": 15,
   "metadata": {},
   "outputs": [
    {
     "data": {
      "text/html": [
       "<div>\n",
       "<style scoped>\n",
       "    .dataframe tbody tr th:only-of-type {\n",
       "        vertical-align: middle;\n",
       "    }\n",
       "\n",
       "    .dataframe tbody tr th {\n",
       "        vertical-align: top;\n",
       "    }\n",
       "\n",
       "    .dataframe thead th {\n",
       "        text-align: right;\n",
       "    }\n",
       "</style>\n",
       "<table border=\"1\" class=\"dataframe\">\n",
       "  <thead>\n",
       "    <tr style=\"text-align: right;\">\n",
       "      <th></th>\n",
       "      <th>product_id</th>\n",
       "      <th>property_type</th>\n",
       "      <th>size_sqft</th>\n",
       "      <th>location</th>\n",
       "      <th>bedrooms</th>\n",
       "      <th>price_usd</th>\n",
       "    </tr>\n",
       "  </thead>\n",
       "  <tbody>\n",
       "    <tr>\n",
       "      <th>0</th>\n",
       "      <td>1</td>\n",
       "      <td>Apartment</td>\n",
       "      <td>1200</td>\n",
       "      <td>Downtown</td>\n",
       "      <td>2</td>\n",
       "      <td>250000</td>\n",
       "    </tr>\n",
       "    <tr>\n",
       "      <th>1</th>\n",
       "      <td>2</td>\n",
       "      <td>House</td>\n",
       "      <td>2000</td>\n",
       "      <td>Suburb</td>\n",
       "      <td>3</td>\n",
       "      <td>350000</td>\n",
       "    </tr>\n",
       "    <tr>\n",
       "      <th>2</th>\n",
       "      <td>3</td>\n",
       "      <td>Apartment</td>\n",
       "      <td>800</td>\n",
       "      <td>Uptown</td>\n",
       "      <td>1</td>\n",
       "      <td>150000</td>\n",
       "    </tr>\n",
       "    <tr>\n",
       "      <th>3</th>\n",
       "      <td>4</td>\n",
       "      <td>Condo</td>\n",
       "      <td>1500</td>\n",
       "      <td>Downtown</td>\n",
       "      <td>2</td>\n",
       "      <td>300000</td>\n",
       "    </tr>\n",
       "    <tr>\n",
       "      <th>4</th>\n",
       "      <td>5</td>\n",
       "      <td>House</td>\n",
       "      <td>1800</td>\n",
       "      <td>Suburb</td>\n",
       "      <td>4</td>\n",
       "      <td>400000</td>\n",
       "    </tr>\n",
       "  </tbody>\n",
       "</table>\n",
       "</div>"
      ],
      "text/plain": [
       "   product_id property_type  size_sqft  location  bedrooms  price_usd\n",
       "0           1     Apartment       1200  Downtown         2     250000\n",
       "1           2         House       2000    Suburb         3     350000\n",
       "2           3     Apartment        800    Uptown         1     150000\n",
       "3           4         Condo       1500  Downtown         2     300000\n",
       "4           5         House       1800    Suburb         4     400000"
      ]
     },
     "execution_count": 15,
     "metadata": {},
     "output_type": "execute_result"
    }
   ],
   "source": [
    "re_df"
   ]
  },
  {
   "cell_type": "code",
   "execution_count": 16,
   "metadata": {},
   "outputs": [
    {
     "data": {
      "text/plain": [
       "1460.0"
      ]
     },
     "execution_count": 16,
     "metadata": {},
     "output_type": "execute_result"
    }
   ],
   "source": [
    "# 1. Calculate the average size of properties in the dataset\n",
    "avg_size = re_df['size_sqft'].mean()\n",
    "avg_size"
   ]
  },
  {
   "cell_type": "code",
   "execution_count": 17,
   "metadata": {},
   "outputs": [
    {
     "data": {
      "text/html": [
       "<div>\n",
       "<style scoped>\n",
       "    .dataframe tbody tr th:only-of-type {\n",
       "        vertical-align: middle;\n",
       "    }\n",
       "\n",
       "    .dataframe tbody tr th {\n",
       "        vertical-align: top;\n",
       "    }\n",
       "\n",
       "    .dataframe thead th {\n",
       "        text-align: right;\n",
       "    }\n",
       "</style>\n",
       "<table border=\"1\" class=\"dataframe\">\n",
       "  <thead>\n",
       "    <tr style=\"text-align: right;\">\n",
       "      <th></th>\n",
       "      <th>product_id</th>\n",
       "      <th>property_type</th>\n",
       "      <th>size_sqft</th>\n",
       "      <th>location</th>\n",
       "      <th>bedrooms</th>\n",
       "      <th>price_usd</th>\n",
       "    </tr>\n",
       "  </thead>\n",
       "  <tbody>\n",
       "    <tr>\n",
       "      <th>0</th>\n",
       "      <td>1</td>\n",
       "      <td>Apartment</td>\n",
       "      <td>1200</td>\n",
       "      <td>Downtown</td>\n",
       "      <td>2</td>\n",
       "      <td>250000</td>\n",
       "    </tr>\n",
       "    <tr>\n",
       "      <th>3</th>\n",
       "      <td>4</td>\n",
       "      <td>Condo</td>\n",
       "      <td>1500</td>\n",
       "      <td>Downtown</td>\n",
       "      <td>2</td>\n",
       "      <td>300000</td>\n",
       "    </tr>\n",
       "  </tbody>\n",
       "</table>\n",
       "</div>"
      ],
      "text/plain": [
       "   product_id property_type  size_sqft  location  bedrooms  price_usd\n",
       "0           1     Apartment       1200  Downtown         2     250000\n",
       "3           4         Condo       1500  Downtown         2     300000"
      ]
     },
     "execution_count": 17,
     "metadata": {},
     "output_type": "execute_result"
    }
   ],
   "source": [
    "# 2. Identify and list properties located in the downtown area.\n",
    "downtown_area = re_df[re_df['location'] == 'Downtown']\n",
    "downtown_area"
   ]
  },
  {
   "cell_type": "code",
   "execution_count": 18,
   "metadata": {},
   "outputs": [
    {
     "data": {
      "text/html": [
       "<div>\n",
       "<style scoped>\n",
       "    .dataframe tbody tr th:only-of-type {\n",
       "        vertical-align: middle;\n",
       "    }\n",
       "\n",
       "    .dataframe tbody tr th {\n",
       "        vertical-align: top;\n",
       "    }\n",
       "\n",
       "    .dataframe thead th {\n",
       "        text-align: right;\n",
       "    }\n",
       "</style>\n",
       "<table border=\"1\" class=\"dataframe\">\n",
       "  <thead>\n",
       "    <tr style=\"text-align: right;\">\n",
       "      <th></th>\n",
       "      <th>product_id</th>\n",
       "      <th>property_type</th>\n",
       "      <th>size_sqft</th>\n",
       "      <th>location</th>\n",
       "      <th>bedrooms</th>\n",
       "      <th>price_usd</th>\n",
       "    </tr>\n",
       "  </thead>\n",
       "  <tbody>\n",
       "    <tr>\n",
       "      <th>1</th>\n",
       "      <td>2</td>\n",
       "      <td>House</td>\n",
       "      <td>2000</td>\n",
       "      <td>Suburb</td>\n",
       "      <td>3</td>\n",
       "      <td>350000</td>\n",
       "    </tr>\n",
       "    <tr>\n",
       "      <th>4</th>\n",
       "      <td>5</td>\n",
       "      <td>House</td>\n",
       "      <td>1800</td>\n",
       "      <td>Suburb</td>\n",
       "      <td>4</td>\n",
       "      <td>400000</td>\n",
       "    </tr>\n",
       "  </tbody>\n",
       "</table>\n",
       "</div>"
      ],
      "text/plain": [
       "   product_id property_type  size_sqft location  bedrooms  price_usd\n",
       "1           2         House       2000   Suburb         3     350000\n",
       "4           5         House       1800   Suburb         4     400000"
      ]
     },
     "execution_count": 18,
     "metadata": {},
     "output_type": "execute_result"
    }
   ],
   "source": [
    "# 3. Find properties with a price higher than $300,000.\n",
    "high_price_properties = re_df[re_df['price_usd'] > 300000]\n",
    "high_price_properties"
   ]
  },
  {
   "cell_type": "code",
   "execution_count": 19,
   "metadata": {},
   "outputs": [
    {
     "data": {
      "text/plain": [
       "Apartment    2\n",
       "House        2\n",
       "Condo        1\n",
       "Name: property_type, dtype: int64"
      ]
     },
     "execution_count": 19,
     "metadata": {},
     "output_type": "execute_result"
    }
   ],
   "source": [
    "# 4. Determine the distribution of property types in the dataset.\n",
    "property_type_distribution = re_df['property_type'].value_counts()\n",
    "property_type_distribution"
   ]
  },
  {
   "cell_type": "code",
   "execution_count": 20,
   "metadata": {},
   "outputs": [
    {
     "data": {
      "text/html": [
       "<div>\n",
       "<style scoped>\n",
       "    .dataframe tbody tr th:only-of-type {\n",
       "        vertical-align: middle;\n",
       "    }\n",
       "\n",
       "    .dataframe tbody tr th {\n",
       "        vertical-align: top;\n",
       "    }\n",
       "\n",
       "    .dataframe thead th {\n",
       "        text-align: right;\n",
       "    }\n",
       "</style>\n",
       "<table border=\"1\" class=\"dataframe\">\n",
       "  <thead>\n",
       "    <tr style=\"text-align: right;\">\n",
       "      <th></th>\n",
       "      <th>product_id</th>\n",
       "      <th>property_type</th>\n",
       "      <th>size_sqft</th>\n",
       "      <th>location</th>\n",
       "      <th>bedrooms</th>\n",
       "      <th>price_usd</th>\n",
       "    </tr>\n",
       "  </thead>\n",
       "  <tbody>\n",
       "    <tr>\n",
       "      <th>2</th>\n",
       "      <td>3</td>\n",
       "      <td>Apartment</td>\n",
       "      <td>800</td>\n",
       "      <td>Uptown</td>\n",
       "      <td>1</td>\n",
       "      <td>150000</td>\n",
       "    </tr>\n",
       "  </tbody>\n",
       "</table>\n",
       "</div>"
      ],
      "text/plain": [
       "   product_id property_type  size_sqft location  bedrooms  price_usd\n",
       "2           3     Apartment        800   Uptown         1     150000"
      ]
     },
     "execution_count": 20,
     "metadata": {},
     "output_type": "execute_result"
    }
   ],
   "source": [
    "# 5. Identify and list apartments with a price less than $200,000.\n",
    "cheap_apartments = re_df[(re_df['property_type'] == 'Apartment') & (re_df['price_usd'] < 200000)]\n",
    "cheap_apartments\n"
   ]
  },
  {
   "cell_type": "code",
   "execution_count": 21,
   "metadata": {},
   "outputs": [
    {
     "data": {
      "text/plain": [
       "198.61111111111114"
      ]
     },
     "execution_count": 21,
     "metadata": {},
     "output_type": "execute_result"
    }
   ],
   "source": [
    "# 6. Calculate the average price per square foot for all properties.\n",
    "re_df['price_per_sqft'] = re_df['price_usd'] / re_df['size_sqft']\n",
    "avg_price_sqft = re_df['price_per_sqft'].mean()\n",
    "avg_price_sqft\n"
   ]
  },
  {
   "cell_type": "code",
   "execution_count": 22,
   "metadata": {},
   "outputs": [
    {
     "data": {
      "text/html": [
       "<div>\n",
       "<style scoped>\n",
       "    .dataframe tbody tr th:only-of-type {\n",
       "        vertical-align: middle;\n",
       "    }\n",
       "\n",
       "    .dataframe tbody tr th {\n",
       "        vertical-align: top;\n",
       "    }\n",
       "\n",
       "    .dataframe thead th {\n",
       "        text-align: right;\n",
       "    }\n",
       "</style>\n",
       "<table border=\"1\" class=\"dataframe\">\n",
       "  <thead>\n",
       "    <tr style=\"text-align: right;\">\n",
       "      <th></th>\n",
       "      <th>product_id</th>\n",
       "      <th>property_type</th>\n",
       "      <th>size_sqft</th>\n",
       "      <th>location</th>\n",
       "      <th>bedrooms</th>\n",
       "      <th>price_usd</th>\n",
       "      <th>price_per_sqft</th>\n",
       "    </tr>\n",
       "  </thead>\n",
       "  <tbody>\n",
       "    <tr>\n",
       "      <th>1</th>\n",
       "      <td>2</td>\n",
       "      <td>House</td>\n",
       "      <td>2000</td>\n",
       "      <td>Suburb</td>\n",
       "      <td>3</td>\n",
       "      <td>350000</td>\n",
       "      <td>175.0</td>\n",
       "    </tr>\n",
       "  </tbody>\n",
       "</table>\n",
       "</div>"
      ],
      "text/plain": [
       "   product_id property_type  size_sqft location  bedrooms  price_usd  \\\n",
       "1           2         House       2000   Suburb         3     350000   \n",
       "\n",
       "   price_per_sqft  \n",
       "1           175.0  "
      ]
     },
     "execution_count": 22,
     "metadata": {},
     "output_type": "execute_result"
    }
   ],
   "source": [
    "# 7. Identify and list houses with a size greater than 1,800 sqft.\n",
    "large_size = re_df[(re_df['property_type'] == 'House') & (re_df['size_sqft'] > 1800)]\n",
    "large_size"
   ]
  },
  {
   "cell_type": "code",
   "execution_count": 23,
   "metadata": {},
   "outputs": [
    {
     "data": {
      "text/plain": [
       "2    2\n",
       "3    1\n",
       "1    1\n",
       "4    1\n",
       "Name: bedrooms, dtype: int64"
      ]
     },
     "execution_count": 23,
     "metadata": {},
     "output_type": "execute_result"
    }
   ],
   "source": [
    "# 8. Determine the distribution of the number of bedrooms in the dataset.\n",
    "bedroom_dist = re_df['bedrooms'].value_counts()\n",
    "bedroom_dist"
   ]
  },
  {
   "cell_type": "code",
   "execution_count": 24,
   "metadata": {},
   "outputs": [
    {
     "data": {
      "text/html": [
       "<div>\n",
       "<style scoped>\n",
       "    .dataframe tbody tr th:only-of-type {\n",
       "        vertical-align: middle;\n",
       "    }\n",
       "\n",
       "    .dataframe tbody tr th {\n",
       "        vertical-align: top;\n",
       "    }\n",
       "\n",
       "    .dataframe thead th {\n",
       "        text-align: right;\n",
       "    }\n",
       "</style>\n",
       "<table border=\"1\" class=\"dataframe\">\n",
       "  <thead>\n",
       "    <tr style=\"text-align: right;\">\n",
       "      <th></th>\n",
       "      <th>product_id</th>\n",
       "      <th>property_type</th>\n",
       "      <th>size_sqft</th>\n",
       "      <th>location</th>\n",
       "      <th>bedrooms</th>\n",
       "      <th>price_usd</th>\n",
       "      <th>price_per_sqft</th>\n",
       "    </tr>\n",
       "  </thead>\n",
       "  <tbody>\n",
       "  </tbody>\n",
       "</table>\n",
       "</div>"
      ],
      "text/plain": [
       "Empty DataFrame\n",
       "Columns: [product_id, property_type, size_sqft, location, bedrooms, price_usd, price_per_sqft]\n",
       "Index: []"
      ]
     },
     "execution_count": 24,
     "metadata": {},
     "output_type": "execute_result"
    }
   ],
   "source": [
    "# 9. Find properties with 3 bedrooms and a price less than $300,000.\n",
    "bed_3 = re_df[(re_df['bedrooms'] == 3) & (re_df['price_usd'] < 300000)]\n",
    "bed_3"
   ]
  },
  {
   "cell_type": "code",
   "execution_count": 25,
   "metadata": {},
   "outputs": [
    {
     "data": {
      "text/html": [
       "<div>\n",
       "<style scoped>\n",
       "    .dataframe tbody tr th:only-of-type {\n",
       "        vertical-align: middle;\n",
       "    }\n",
       "\n",
       "    .dataframe tbody tr th {\n",
       "        vertical-align: top;\n",
       "    }\n",
       "\n",
       "    .dataframe thead th {\n",
       "        text-align: right;\n",
       "    }\n",
       "</style>\n",
       "<table border=\"1\" class=\"dataframe\">\n",
       "  <thead>\n",
       "    <tr style=\"text-align: right;\">\n",
       "      <th></th>\n",
       "      <th>product_id</th>\n",
       "      <th>size_sqft</th>\n",
       "      <th>size_category</th>\n",
       "    </tr>\n",
       "  </thead>\n",
       "  <tbody>\n",
       "    <tr>\n",
       "      <th>0</th>\n",
       "      <td>1</td>\n",
       "      <td>1200</td>\n",
       "      <td>Medium</td>\n",
       "    </tr>\n",
       "    <tr>\n",
       "      <th>1</th>\n",
       "      <td>2</td>\n",
       "      <td>2000</td>\n",
       "      <td>Large</td>\n",
       "    </tr>\n",
       "    <tr>\n",
       "      <th>2</th>\n",
       "      <td>3</td>\n",
       "      <td>800</td>\n",
       "      <td>Small</td>\n",
       "    </tr>\n",
       "    <tr>\n",
       "      <th>3</th>\n",
       "      <td>4</td>\n",
       "      <td>1500</td>\n",
       "      <td>Medium</td>\n",
       "    </tr>\n",
       "    <tr>\n",
       "      <th>4</th>\n",
       "      <td>5</td>\n",
       "      <td>1800</td>\n",
       "      <td>Medium</td>\n",
       "    </tr>\n",
       "  </tbody>\n",
       "</table>\n",
       "</div>"
      ],
      "text/plain": [
       "   product_id  size_sqft size_category\n",
       "0           1       1200        Medium\n",
       "1           2       2000         Large\n",
       "2           3        800         Small\n",
       "3           4       1500        Medium\n",
       "4           5       1800        Medium"
      ]
     },
     "execution_count": 25,
     "metadata": {},
     "output_type": "execute_result"
    }
   ],
   "source": [
    "# 10. Categorize properties into size ranges (e.g., Small, Medium, Large) based on their square footage.\n",
    "def categorize_size(size):\n",
    "    if size < 1000:\n",
    "        return 'Small'\n",
    "    elif size >= 1000 and size < 2000:\n",
    "        return 'Medium'\n",
    "    else:\n",
    "        return 'Large'\n",
    "\n",
    "re_df['size_category'] = re_df['size_sqft'].apply(categorize_size)\n",
    "re_df[['product_id', 'size_sqft', 'size_category']]\n"
   ]
  },
  {
   "cell_type": "code",
   "execution_count": null,
   "metadata": {},
   "outputs": [],
   "source": []
  }
 ],
 "metadata": {
  "kernelspec": {
   "display_name": "base",
   "language": "python",
   "name": "python3"
  },
  "language_info": {
   "codemirror_mode": {
    "name": "ipython",
    "version": 3
   },
   "file_extension": ".py",
   "mimetype": "text/x-python",
   "name": "python",
   "nbconvert_exporter": "python",
   "pygments_lexer": "ipython3",
   "version": "3.9.13"
  }
 },
 "nbformat": 4,
 "nbformat_minor": 2
}
